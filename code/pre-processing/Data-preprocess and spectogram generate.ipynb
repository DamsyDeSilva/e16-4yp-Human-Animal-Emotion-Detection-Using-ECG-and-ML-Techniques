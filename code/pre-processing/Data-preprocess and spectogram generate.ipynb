{
 "cells": [
  {
   "cell_type": "markdown",
   "id": "652cb991",
   "metadata": {},
   "source": [
    "# Pre-process ECGs and Generate-spectogram"
   ]
  },
  {
   "cell_type": "code",
   "execution_count": null,
   "id": "2e4069c3",
   "metadata": {},
   "outputs": [],
   "source": [
    "import os\n",
    "import matplotlib.pyplot as plt\n",
    "from matplotlib.pyplot import figure\n",
    "import time\n",
    "from scipy.signal import butter, lfilter\n",
    "from scipy import signal\n",
    "import numpy"
   ]
  },
  {
   "cell_type": "markdown",
   "id": "5ec6e151",
   "metadata": {},
   "source": [
    "## Pre-processing"
   ]
  },
  {
   "cell_type": "code",
   "execution_count": null,
   "id": "2ef0da8e",
   "metadata": {},
   "outputs": [],
   "source": [
    "def butter_bandpass(lowcut, highcut, fs, order=5):\n",
    "    '''\n",
    "    Implement Butterworth BandPass Filter\n",
    "    :param lowcut: lower cut of for ecg\n",
    "    :param highcut: higher cutoff for ecg\n",
    "    :param fs: sampling rate of the signal\n",
    "    :param order: order of the filter\n",
    "    :return: filter factors\n",
    "    '''\n",
    "    nyq = 0.5 * fs\n",
    "    low = lowcut / nyq\n",
    "    high = highcut / nyq\n",
    "    b, a = butter(order, [low, high], btype='band')\n",
    "    return b, a\n",
    "\n",
    "def butter_bandpass_filter(data, lowcut, highcut, fs, order=5):\n",
    "    '''\n",
    "    Filter the signal using the BW filter\n",
    "    :param data: ecg signal\n",
    "    :param lowcut:\n",
    "    :param highcut:\n",
    "    :param fs:\n",
    "    :param order:\n",
    "    :return:\n",
    "    '''\n",
    "    b, a = butter_bandpass(lowcut, highcut, fs, order=order)\n",
    "    y = lfilter(b, a, data)\n",
    "    return y\n",
    "\n",
    "def de_trend(signal_in):\n",
    "    '''\n",
    "    De-Trend a ECG signals window size [1N/8:2N/8]\n",
    "    :param signal_in: input signal (after bandpass filtering)\n",
    "    :return: DE-trended signal\n",
    "    '''\n",
    "    return signal.detrend(signal_in, bp=[int(len(signal_in) / 8),\n",
    "                                         int(2*len(signal_in) / 8),\n",
    "                                         int(3 * len(signal_in) / 8),\n",
    "                                         int(4 * len(signal_in) / 8),\n",
    "                                         int(5 * len(signal_in) / 8),\n",
    "                                         int(6 * len(signal_in) / 8),\n",
    "                                         int(7 * len(signal_in) / 8),\n",
    "                                         ])\n",
    "\n",
    "def smooth(x, window_len=11, window='hanning'):\n",
    "    '''\n",
    "    Smooth a given signal\n",
    "    :param x: signal\n",
    "    :param window_len: smoothing kernel length\n",
    "    :param window: window type\n",
    "    :return: smoothed signal\n",
    "    '''\n",
    "    if x.size < window_len:\n",
    "        raise (ValueError, \"Input vector needs to be bigger than window size.\")\n",
    "\n",
    "    if window_len < 3:\n",
    "        return x\n",
    "\n",
    "    if not window in ['flat', 'hanning', 'hamming', 'bartlett', 'blackman']:\n",
    "        raise (ValueError, \"Window is on of 'flat', 'hanning', 'hamming', 'bartlett', 'blackman'\")\n",
    "\n",
    "    s = numpy.r_[x[window_len - 1:0:-1], x, x[-2:-window_len - 1:-1]]\n",
    "    # print(len(s))\n",
    "    if window == 'flat':  # moving average\n",
    "        w = numpy.ones(window_len, 'd')\n",
    "    else:\n",
    "        w = eval('numpy.' + window + '(window_len)')\n",
    "\n",
    "    y = numpy.convolve(w / w.sum(), s, mode='valid')\n",
    "    return y\n",
    "\n",
    "def normalize(ecg_signal):\n",
    "    '''\n",
    "    Normalize a ECG signal range [0,1]\n",
    "    :param ecg_signal: pre processed ecg signal\n",
    "    :return: normalized signal\n",
    "    '''\n",
    "    ecg_signal += abs(min(ecg_signal))\n",
    "    ecg_signal /= max(ecg_signal)\n",
    "\n",
    "    return ecg_signal\n",
    "\n",
    "def pre_processing(ecg_signal):\n",
    "    y_t = butter_bandpass_filter(ecg_signal, 0.05, 100, 1000, order=2)\n",
    "    signal_de_trend = de_trend(y_t)\n",
    "    smoothed = smooth(numpy.array(signal_de_trend), window_len=20, window='hamming')[:len(ecg_signal)]\n",
    "    return normalize(smoothed)"
   ]
  },
  {
   "cell_type": "markdown",
   "id": "539df9f5",
   "metadata": {},
   "source": [
    "## STFT"
   ]
  },
  {
   "cell_type": "code",
   "execution_count": null,
   "id": "1e6d3b45",
   "metadata": {},
   "outputs": [],
   "source": [
    "def stft_save_spectogram(pr_ecg, save_file_path_name):\n",
    "    f, t, Zxx = signal.stft(pr_ecg, fs=1000, nperseg=1000)\n",
    "    figure(figsize=(256, 256), dpi=1)\n",
    "    plt.pcolormesh(t, f[:101], numpy.abs(Zxx[:101]), vmin=0, vmax=0.01, shading='gouraud', cmap='jet')\n",
    "    plt.xticks([], [])\n",
    "    plt.yticks([], [])\n",
    "    plt.savefig(save_file_path_name+'.png')"
   ]
  },
  {
   "cell_type": "code",
   "execution_count": null,
   "id": "b012dea9",
   "metadata": {},
   "outputs": [],
   "source": [
    "def compute_stft(pr_ecg):\n",
    "    f, t, Zxx = signal.stft(pr_ecg, fs=1000, nperseg=1000)\n",
    "    return Zxx[:101]"
   ]
  },
  {
   "cell_type": "markdown",
   "id": "aa9ca398",
   "metadata": {},
   "source": [
    "## File reading"
   ]
  },
  {
   "cell_type": "code",
   "execution_count": null,
   "id": "cbcaacfc",
   "metadata": {},
   "outputs": [],
   "source": [
    "def read(file):\n",
    "    with open(file, 'r') as FP:\n",
    "        data = [int(x) for x in FP]\n",
    "    return data"
   ]
  },
  {
   "cell_type": "code",
   "execution_count": null,
   "id": "b501431e",
   "metadata": {},
   "outputs": [],
   "source": [
    "emotions = ['Neutral','Anxiety', 'Disgust', 'Happy', 'Irritation', 'Relief', 'Sad', 'Surprise']"
   ]
  },
  {
   "cell_type": "code",
   "execution_count": null,
   "id": "6e80c8dd",
   "metadata": {},
   "outputs": [],
   "source": [
    "DIR_PATH = 'filtered_data_own/'\n",
    "\n",
    "# listing subject directories\n",
    "subject_dirs = []\n",
    "for file in os.listdir(DIR_PATH):\n",
    "    subject_dirs.append(file)\n",
    "\n",
    "print(subject_dirs)\n",
    "print('Number of subject directories : ', len(subject_dirs))"
   ]
  },
  {
   "cell_type": "code",
   "execution_count": null,
   "id": "6d0cd44c",
   "metadata": {},
   "outputs": [],
   "source": [
    "# listing emotion directories for each subject\n",
    "subjects_emotions = {}\n",
    "emotion_dir_count = 0\n",
    "for sub_dir in subject_dirs:\n",
    "    emotion_dirs = []\n",
    "    for file in  os.listdir(DIR_PATH+sub_dir+'/'):\n",
    "        emotion_dirs.append(file)\n",
    "    subjects_emotions[sub_dir] = emotion_dirs\n",
    "    emotion_dir_count = emotion_dir_count+ len(emotion_dirs)\n",
    "\n",
    "print (subjects_emotions)\n",
    "print(len(subjects_emotions))\n",
    "print(emotion_dir_count)"
   ]
  },
  {
   "cell_type": "code",
   "execution_count": null,
   "id": "4de2715c",
   "metadata": {},
   "outputs": [],
   "source": [
    "file_count = {'Neutral': 0,\n",
    "            'Anxiety': 0,\n",
    "            'Disgust': 0,\n",
    "            'Irritation': 0,\n",
    "            'Sad':0,\n",
    "            'Surprise':0,\n",
    "            'Fear':0,\n",
    "            'Happy': 0,\n",
    "            'Relief':0}\n",
    "\n",
    "for subject_dir in subjects_emotions:\n",
    "    for emotion_dir in subjects_emotions[subject_dir]:\n",
    "        \n",
    "        ecg_file_path = DIR_PATH+subject_dir+'/'+emotion_dir+'/'\n",
    "\n",
    "        ecg_files = sorted(os.listdir(ecg_file_path))   \n",
    "\n",
    "        file_count[emotion_dir] = file_count[emotion_dir] + len(ecg_files)\n",
    "        \n",
    "file_count\n",
    "            "
   ]
  },
  {
   "attachments": {
    "download.png": {
     "image/png": "[encoded data removed]"
    }
   },
   "cell_type": "markdown",
   "id": "e16ba1d0",
   "metadata": {},
   "source": [
    "## Emotion Model\n",
    "\n",
    "![download.png](attachment:download.png)"
   ]
  },
  {
   "cell_type": "markdown",
   "id": "fa51b9c7",
   "metadata": {},
   "source": [
    "## Valence based data"
   ]
  },
  {
   "cell_type": "code",
   "execution_count": null,
   "id": "8d15a132",
   "metadata": {},
   "outputs": [],
   "source": [
    "emotion_mapping_valence = {'Neutral': 'discard',\n",
    "                'Anxiety': 'discard',\n",
    "                'Disgust': 'NEGATIVE',\n",
    "                'Irritation': 'discard',\n",
    "                'Sad':'NEGATIVE',\n",
    "                'Surprise':'discard',\n",
    "                'Fear':'discard',\n",
    "                'Happy': 'POSITIVE',\n",
    "                'Relief': 'POSITIVE'}"
   ]
  },
  {
   "cell_type": "code",
   "execution_count": null,
   "id": "295c9b81",
   "metadata": {},
   "outputs": [],
   "source": [
    "SAVE_DIR_VALENCE = 'spectograms_valence'\n",
    "\n",
    "\n",
    "# make directory for save spectograms\n",
    "if not os.path.exists(SAVE_DIR_VALENCE):\n",
    "    os.makedirs(SAVE_DIR_VALENCE)\n",
    "\n",
    "raw_ecg_signals = []\n",
    "pre_process_signals = []\n",
    "\n",
    "for subject_dir in subjects_emotions:\n",
    "    for emotion_dir in subjects_emotions[subject_dir]:\n",
    "        \n",
    "        if (emotion_dir == 'Happy' or emotion_dir == 'Relief' or emotion_dir == 'Sad' or emotion_dir == 'Disgust'):\n",
    "            \n",
    "            ecg_file_path = DIR_PATH+subject_dir+'/'+emotion_dir+'/'\n",
    "            ecg_files = sorted(os.listdir(ecg_file_path))   \n",
    "\n",
    "\n",
    "            for ecg_file in ecg_files:\n",
    "\n",
    "                signal_ecg = read(ecg_file_path+'/'+str(ecg_file))\n",
    "                raw_ecg_signals.append((signal_ecg,emotion_mapping_valence[emotion_dir]))\n",
    "\n",
    "                pre_pr_ecg = pre_processing(signal_ecg)\n",
    "                pre_process_signals.append((pre_pr_ecg,emotion_mapping_valence[emotion_dir]))\n",
    "\n",
    "                save_file_path_name = SAVE_DIR_VALENCE+'/'+emotion_mapping_valence[emotion_dir]+'/'+subject_dir+'_'+ emotion_dir+'_'+ecg_file.split('.')[0]\n",
    "\n",
    "                if not os.path.exists(SAVE_DIR_VALENCE+'/'+emotion_mapping_valence[emotion_dir]):\n",
    "                    os.makedirs(SAVE_DIR_VALENCE+'/'+emotion_mapping_valence[emotion_dir])\n",
    "\n",
    "#                 stft_save_spectogram(pre_pr_ecg, save_file_path_name)\n",
    "            \n",
    "print(len(raw_ecg_signals))  "
   ]
  },
  {
   "cell_type": "markdown",
   "id": "42eed1f1",
   "metadata": {},
   "source": [
    "## Arousal based Data"
   ]
  },
  {
   "cell_type": "code",
   "execution_count": null,
   "id": "dabdeffc",
   "metadata": {},
   "outputs": [],
   "source": [
    "emotion_mapping_arousal = {'Neutral': 'NEUTRAL',\n",
    "                'Anxiety': 'PASSIVE',\n",
    "                'Irritation': 'PASSIVE',\n",
    "                'Sad':'PASSIVE',\n",
    "                'Relief': 'PASSIVE',\n",
    "                'Disgust': 'ACTIVE',\n",
    "                'Surprise':'ACTIVE',\n",
    "                'Fear':'ACTIVE',\n",
    "                'Happy': 'ACTIVE',\n",
    "                }"
   ]
  },
  {
   "cell_type": "code",
   "execution_count": null,
   "id": "418ee599",
   "metadata": {},
   "outputs": [],
   "source": [
    "SAVE_DIR_AROUSAL = 'spectograms_arousal'\n",
    "\n",
    "# make directory for save scalograms\n",
    "if not os.path.exists(SAVE_DIR_AROUSAL):\n",
    "    os.makedirs(SAVE_DIR_AROUSAL)\n",
    "\n",
    "raw_ecg_signals = []\n",
    "pre_process_signals = []\n",
    "for subject_dir in subjects_emotions:\n",
    "    for emotion_dir in subjects_emotions[subject_dir]:\n",
    "\n",
    "        if (emotion_dir != 'Neutral'):\n",
    "            ecg_file_path = DIR_PATH+subject_dir+'/'+emotion_dir+'/'\n",
    "\n",
    "            ecg_files = sorted(os.listdir(ecg_file_path))   \n",
    "\n",
    "            for ecg_file in ecg_files:\n",
    "\n",
    "                signal_ecg = read(ecg_file_path+'/'+str(ecg_file))\n",
    "                raw_ecg_signals.append((signal_ecg,emotion_mapping_arousal[emotion_dir]))\n",
    "\n",
    "                pre_pr_ecg = pre_processing(signal_ecg)\n",
    "                pre_process_signals.append((pre_pr_ecg,emotion_mapping_arousal[emotion_dir]))\n",
    "\n",
    "                save_file_path_name = SAVE_DIR_AROUSAL+'/'+emotion_mapping_arousal[emotion_dir]+'/'+subject_dir+'_'+ emotion_dir+'_'+ecg_file.split('.')[0]\n",
    "\n",
    "                if not os.path.exists(SAVE_DIR_AROUSAL+'/'+emotion_mapping_arousal[emotion_dir]):\n",
    "                    os.makedirs(SAVE_DIR_AROUSAL+'/'+emotion_mapping_arousal[emotion_dir])\n",
    "\n",
    "                stft_save_spectogram(pre_pr_ecg, save_file_path_name)\n",
    "            \n",
    "print(len(raw_ecg_signals))  "
   ]
  },
  {
   "cell_type": "markdown",
   "id": "c4979788",
   "metadata": {},
   "source": [
    "## Nine Emotion Data"
   ]
  },
  {
   "cell_type": "code",
   "execution_count": null,
   "id": "75d7c728",
   "metadata": {},
   "outputs": [],
   "source": [
    "SAVE_DIR_NINE = 'spectograms_nine_emotion'\n",
    "\n",
    "# make directory for save scalograms\n",
    "if not os.path.exists(SAVE_DIR_NINE):\n",
    "    os.makedirs(SAVE_DIR_NINE)\n",
    "\n",
    "raw_ecg_signals = []\n",
    "pre_process_signals = []\n",
    "for subject_dir in subjects_emotions:\n",
    "    for emotion_dir in subjects_emotions[subject_dir]:\n",
    "\n",
    "        ecg_file_path = DIR_PATH+subject_dir+'/'+emotion_dir+'/'\n",
    "            \n",
    "        ecg_files = sorted(os.listdir(ecg_file_path))   \n",
    "        \n",
    "        for ecg_file in ecg_files:\n",
    "\n",
    "            signal_ecg = read(ecg_file_path+'/'+str(ecg_file))\n",
    "            raw_ecg_signals.append((signal_ecg,emotion_mapping_arousal[emotion_dir]))\n",
    "            \n",
    "            pre_pr_ecg = pre_processing(signal_ecg)\n",
    "            pre_process_signals.append((pre_pr_ecg,emotion_mapping_arousal[emotion_dir]))\n",
    "            \n",
    "            save_file_path_name = SAVE_DIR_NINE+'/'+emotion_dir+'/'+subject_dir+'_'+ emotion_dir+'_'+ecg_file.split('.')[0]\n",
    "            \n",
    "            if not os.path.exists(SAVE_DIR_NINE+'/'+emotion_dir):\n",
    "                os.makedirs(SAVE_DIR_NINE+'/'+emotion_dir)\n",
    "            \n",
    "            stft_save_spectogram(pre_pr_ecg, save_file_path_name)\n",
    "            \n",
    "print(len(raw_ecg_signals))  "
   ]
  },
  {
   "cell_type": "markdown",
   "id": "35ab59a4",
   "metadata": {},
   "source": [
    "# Dogs"
   ]
  },
  {
   "cell_type": "code",
   "execution_count": null,
   "id": "5b383a0d",
   "metadata": {},
   "outputs": [],
   "source": [
    "DIR_PATH = 'filtered_data_Dogs/'\n",
    "\n",
    "subject_dirs = []\n",
    "for file in os.listdir(DIR_PATH):\n",
    "    subject_dirs.append(file)\n",
    "\n",
    "print(subject_dirs)\n",
    "print('Number of subject directories : ', len(subject_dirs))"
   ]
  },
  {
   "cell_type": "code",
   "execution_count": null,
   "id": "fe1aaf71",
   "metadata": {},
   "outputs": [],
   "source": [
    "subjects_emotions = {}\n",
    "emotion_dir_count = 0\n",
    "for sub_dir in subject_dirs:\n",
    "    emotion_dirs = []\n",
    "    for file in  os.listdir(DIR_PATH+sub_dir+'/'):\n",
    "        emotion_dirs.append(file)\n",
    "    subjects_emotions[sub_dir] = emotion_dirs\n",
    "    emotion_dir_count = emotion_dir_count+ len(emotion_dirs)\n",
    "\n",
    "print (subjects_emotions)\n",
    "print(len(subjects_emotions))\n",
    "print(emotion_dir_count)"
   ]
  },
  {
   "cell_type": "code",
   "execution_count": null,
   "id": "e149545a",
   "metadata": {},
   "outputs": [],
   "source": [
    "emotion_mapping_dogs = {'neutral': 'discard',\n",
    "                'positive': 'POSITIVE',\n",
    "                'negative': 'NEGATIVE' }"
   ]
  },
  {
   "cell_type": "code",
   "execution_count": null,
   "id": "9686b50e",
   "metadata": {},
   "outputs": [],
   "source": [
    "file_count = {'neutral': 0,\n",
    "                'positive': 0,\n",
    "                'negative': 0 }\n",
    "\n",
    "for subject_dir in subjects_emotions:\n",
    "    for emotion_dir in subjects_emotions[subject_dir]:\n",
    "\n",
    "        ecg_file_path = DIR_PATH+subject_dir+'/'+emotion_dir+'/'\n",
    "\n",
    "        ecg_files = sorted(os.listdir(ecg_file_path))   \n",
    "\n",
    "        file_count[emotion_dir] = file_count[emotion_dir] + len(ecg_files)\n",
    "\n",
    "file_count"
   ]
  },
  {
   "cell_type": "code",
   "execution_count": null,
   "id": "df48b098",
   "metadata": {},
   "outputs": [],
   "source": [
    "SAVE_DIR_VALENCE = 'spectograms_dogs'\n",
    "\n",
    "\n",
    "# make directory for save scalograms\n",
    "if not os.path.exists(SAVE_DIR_VALENCE):\n",
    "    os.makedirs(SAVE_DIR_VALENCE)\n",
    "\n",
    "raw_ecg_signals = []\n",
    "pre_process_signals = []\n",
    "for subject_dir in subjects_emotions:\n",
    "    for emotion_dir in subjects_emotions[subject_dir]:\n",
    "\n",
    "        if (emotion_dir != 'neutral'):\n",
    "            ecg_file_path = DIR_PATH+subject_dir+'/'+emotion_dir+'/'\n",
    "\n",
    "            ecg_files = sorted(os.listdir(ecg_file_path))   \n",
    "\n",
    "            for ecg_file in ecg_files:\n",
    "  \n",
    "                signal_ecg = read(ecg_file_path+'/'+str(ecg_file))\n",
    "                raw_ecg_signals.append((signal_ecg,emotion_dir))\n",
    "\n",
    "                pre_pr_ecg = pre_processing(signal_ecg)\n",
    "                pre_process_signals.append((pre_pr_ecg, emotion_dir))\n",
    "\n",
    "                save_file_path_name = SAVE_DIR_VALENCE+'/'+ emotion_dir +'/'+subject_dir+'_'+ emotion_dir+'_'+ecg_file.split('.')[0]\n",
    "\n",
    "                if not os.path.exists(SAVE_DIR_VALENCE+'/'+emotion_dir):\n",
    "                    os.makedirs(SAVE_DIR_VALENCE+'/'+emotion_dir)\n",
    "\n",
    "                stft_save_spectogram(pre_pr_ecg, save_file_path_name)\n",
    "            \n",
    "print(len(raw_ecg_signals)) "
   ]
  },
  {
   "cell_type": "markdown",
   "id": "7ad1c7b0",
   "metadata": {},
   "source": [
    "## STFT spectogram"
   ]
  },
  {
   "cell_type": "code",
   "execution_count": null,
   "id": "8276918b",
   "metadata": {},
   "outputs": [],
   "source": [
    "figure(figsize=(16, 9), dpi=100)\n",
    "plt.plot(raw_ecg_signals[8][0], 'b')\n",
    "plt.grid()\n",
    "plt.title('Original ECG signal')\n",
    "plt.tight_layout()\n",
    "plt.show()"
   ]
  },
  {
   "cell_type": "code",
   "execution_count": null,
   "id": "d95dbf02",
   "metadata": {},
   "outputs": [],
   "source": [
    "print(pre_process_signals[1][0])"
   ]
  },
  {
   "cell_type": "code",
   "execution_count": null,
   "id": "f11d7aaf",
   "metadata": {},
   "outputs": [],
   "source": [
    "figure(figsize=(16, 9), dpi=100)\n",
    "plt.plot(pre_process_signals[8][0], 'g')\n",
    "plt.grid()\n",
    "plt.title('Preprocessed normalized ECG signal')\n",
    "plt.ylabel('Normalized Value')\n",
    "plt.xlabel('Time [milliseconds]')\n",
    "plt.tight_layout()\n",
    "plt.show()"
   ]
  },
  {
   "cell_type": "code",
   "execution_count": null,
   "id": "fc6c47dd",
   "metadata": {},
   "outputs": [],
   "source": [
    "f, t, Zxx = signal.stft(pre_process_signals[8][0], fs=1000, nperseg=1000)\n",
    "figure(figsize=(10, 5), dpi=100)\n",
    "plt.pcolormesh(t, f[:101], numpy.abs(Zxx[:101]), vmin=0, vmax=0.01, shading='gouraud', cmap='jet')\n",
    "\n",
    "plt.title('STFT Magnitude')\n",
    "plt.ylabel('Frequency [Hz]')\n",
    "plt.xlabel('Time [sec]')\n",
    "plt.colorbar()\n",
    "plt.show()"
   ]
  },
  {
   "cell_type": "code",
   "execution_count": null,
   "id": "13ce719a",
   "metadata": {},
   "outputs": [],
   "source": []
  }
 ],
 "metadata": {
  "kernelspec": {
   "display_name": "Python 3",
   "language": "python",
   "name": "python3"
  },
  "language_info": {
   "codemirror_mode": {
    "name": "ipython",
    "version": 3
   },
   "file_extension": ".py",
   "mimetype": "text/x-python",
   "name": "python",
   "nbconvert_exporter": "python",
   "pygments_lexer": "ipython3",
   "version": "3.9.13"
  },
  "vscode": {
   "interpreter": {
    "hash": "adf522e7ff9f317b0882f3a718ae4c02e5c6d4d6e569bc8728d2786b1068e916"
   }
  }
 },
 "nbformat": 4,
 "nbformat_minor": 5
}
