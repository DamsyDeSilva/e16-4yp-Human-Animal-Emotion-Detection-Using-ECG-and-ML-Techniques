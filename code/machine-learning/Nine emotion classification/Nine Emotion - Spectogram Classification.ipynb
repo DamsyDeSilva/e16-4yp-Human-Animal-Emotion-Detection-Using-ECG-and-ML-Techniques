{
 "cells": [
  {
   "cell_type": "code",
   "execution_count": null,
   "id": "0b3d159c",
   "metadata": {},
   "outputs": [],
   "source": [
    "import numpy as np\n",
    "import matplotlib.pyplot as plt\n",
    "import os\n",
    "import cv2\n",
    "from tqdm import tqdm\n",
    "from sklearn.utils import shuffle\n",
    "from sklearn.model_selection import train_test_split\n",
    "from tensorflow.keras.models import Sequential\n",
    "from tensorflow.keras.layers import Conv2D, MaxPooling2D, Dense, Flatten, Dropout\n",
    "from tensorflow.keras.callbacks import EarlyStopping\n",
    "import tensorflow as tf\n",
    "import random"
   ]
  },
  {
   "cell_type": "code",
   "execution_count": null,
   "id": "43ead965",
   "metadata": {},
   "outputs": [],
   "source": [
    "DATA_DIR = \"spectograms_nine_emotions\""
   ]
  },
  {
   "cell_type": "code",
   "execution_count": null,
   "id": "07b0d243",
   "metadata": {},
   "outputs": [],
   "source": [
    "CATEGORIES = [\"Neutral\",\"Anxiety\", \"Fear\",  \"Disgust\", \"Happy\", \"Irritation\", \"Relief\", \"Sad\", \"Surprise\"]"
   ]
  },
  {
   "cell_type": "code",
   "execution_count": null,
   "id": "99e4acf7",
   "metadata": {},
   "outputs": [],
   "source": [
    "for category in CATEGORIES:  # do positive and negative\n",
    "    path = os.path.join(DATA_DIR,category)  # create path to positive and negative\n",
    "    for img in os.listdir(path):  # iterate over each spectogram per positive and negative\n",
    "        image = cv2.imread(os.path.join(path,img))  # convert to array\n",
    "        image_array = cv2.cvtColor(image, cv2.COLOR_BGR2RGB)\n",
    "#         plt.imshow(image_array, cmap='gray')\n",
    "#         plt.show() \n",
    "#         print(image_array.shape)\n",
    "        break\n",
    "    break"
   ]
  },
  {
   "cell_type": "code",
   "execution_count": null,
   "id": "5a192333",
   "metadata": {},
   "outputs": [],
   "source": [
    "print(image_array.shape)"
   ]
  },
  {
   "cell_type": "code",
   "execution_count": null,
   "id": "4b49abc8",
   "metadata": {},
   "outputs": [],
   "source": [
    "training_data = []\n",
    "\n",
    "\n",
    "for category in CATEGORIES:  # do positive and negative\n",
    "    path = os.path.join(DATA_DIR,category)  # create path to positive and negative\n",
    "    for img in os.listdir(path):  # iterate over each spectogram per positive and negative\n",
    "        image = cv2.imread(os.path.join(path,img))\n",
    "        image_array = cv2.cvtColor(image, cv2.COLOR_BGR2RGB)\n",
    "\n",
    "def create_training_data():\n",
    "    for category in CATEGORIES:  # do positive and negative\n",
    "        path = os.path.join(DATA_DIR,category)  # create path to positive and negative\n",
    "        class_num = CATEGORIES.index(category)  # get the classification  (0 or a 1). 0=Positive 1=Negative\n",
    "\n",
    "        for img in tqdm(os.listdir(path)):  # iterate over each image per positive and negative\n",
    "            try:\n",
    "                image = cv2.imread(os.path.join(path,img))\n",
    "                image_array = cv2.cvtColor(image, cv2.COLOR_BGR2RGB)\n",
    "                training_data.append([image_array, class_num])  # add this to our training_data\n",
    "            except Exception as e:  # in the interest in keeping the output clean...\n",
    "                pass\n",
    "\n",
    "create_training_data()\n",
    "\n",
    "print(len(training_data))"
   ]
  },
  {
   "cell_type": "code",
   "execution_count": null,
   "id": "e6ee53bc",
   "metadata": {},
   "outputs": [],
   "source": [
    "random.shuffle(training_data)\n",
    "\n",
    "for sample in training_data[:10]:\n",
    "    print(sample[1])"
   ]
  },
  {
   "cell_type": "code",
   "execution_count": null,
   "id": "72ab6dff",
   "metadata": {},
   "outputs": [],
   "source": [
    "X = []\n",
    "y = []\n",
    "\n",
    "for features,label in training_data:\n",
    "    X.append(features)\n",
    "    y.append(label)"
   ]
  },
  {
   "cell_type": "code",
   "execution_count": null,
   "id": "7b75419e",
   "metadata": {},
   "outputs": [],
   "source": [
    "X = np.array(X)\n",
    "y = np.array(y)"
   ]
  },
  {
   "cell_type": "code",
   "execution_count": null,
   "id": "59bfb2f7",
   "metadata": {},
   "outputs": [],
   "source": [
    "# np.save('X_valence.npy', X)\n",
    "# np.save('Y_valence.npy', y)"
   ]
  },
  {
   "cell_type": "code",
   "execution_count": null,
   "id": "3abdaff3",
   "metadata": {},
   "outputs": [],
   "source": [
    "X = X/255.0"
   ]
  },
  {
   "cell_type": "code",
   "execution_count": null,
   "id": "3ede1308",
   "metadata": {},
   "outputs": [],
   "source": [
    "X.shape"
   ]
  },
  {
   "cell_type": "code",
   "execution_count": null,
   "id": "0c5e5acd",
   "metadata": {},
   "outputs": [],
   "source": [
    "y.shape"
   ]
  },
  {
   "cell_type": "code",
   "execution_count": null,
   "id": "82ddd546",
   "metadata": {},
   "outputs": [],
   "source": [
    "# creating train data and testing data\n",
    "x_train, x_test, y_train, y_test = train_test_split(X, y, test_size=0.2, random_state=1)"
   ]
  },
  {
   "cell_type": "code",
   "execution_count": null,
   "id": "cf3fe251",
   "metadata": {},
   "outputs": [],
   "source": [
    "model = Sequential()\n",
    "\n",
    "model.add(Conv2D(16, (3,3), 1, activation='relu', input_shape=X.shape[1:]))\n",
    "model.add(MaxPooling2D())\n",
    "\n",
    "model.add(Conv2D(32, (3,3), 1, activation='relu'))\n",
    "model.add(MaxPooling2D())\n",
    "\n",
    "model.add(Conv2D(16, (3,3), 1, activation='relu'))\n",
    "model.add(MaxPooling2D())\n",
    "\n",
    "model.add(Flatten())\n",
    "\n",
    "model.add(Dense(128, activation='relu'))\n",
    "model.add(Dense(9, activation='softmax'))"
   ]
  },
  {
   "cell_type": "code",
   "execution_count": null,
   "id": "1a19ba60",
   "metadata": {},
   "outputs": [],
   "source": [
    "# compile model\n",
    "model.compile(optimizer='adam', loss=tf.losses.sparse_categorical_crossentropy, metrics=['accuracy'])"
   ]
  },
  {
   "cell_type": "code",
   "execution_count": null,
   "id": "33a386d0",
   "metadata": {},
   "outputs": [],
   "source": [
    "# define early stopping callback\n",
    "early_stop = EarlyStopping(monitor='val_loss', patience=5)"
   ]
  },
  {
   "cell_type": "code",
   "execution_count": null,
   "id": "5303ad55",
   "metadata": {},
   "outputs": [],
   "source": [
    "logdir='logs2'\n",
    "tensorboard_callback = tf.keras.callbacks.TensorBoard(log_dir=logdir)"
   ]
  },
  {
   "cell_type": "code",
   "execution_count": null,
   "id": "34d99923",
   "metadata": {},
   "outputs": [],
   "source": [
    "# train model\n",
    "hist = model.fit(x_train, y_train, epochs=20, verbose=1, validation_split=0.2, callbacks=[early_stop, tensorboard_callback])"
   ]
  },
  {
   "cell_type": "code",
   "execution_count": null,
   "id": "3106815a",
   "metadata": {},
   "outputs": [],
   "source": [
    "# evaluate model\n",
    "score = model.evaluate(x_test, y_test, verbose=0)\n",
    "print('Test loss:', score[0])\n",
    "print('Test accuracy:', score[1])"
   ]
  },
  {
   "cell_type": "code",
   "execution_count": null,
   "id": "386f2719",
   "metadata": {},
   "outputs": [],
   "source": [
    "fig = plt.figure()\n",
    "plt.plot(hist.history['loss'], color='teal', label='loss')\n",
    "plt.plot(hist.history['val_loss'], color='orange', label='val_loss')\n",
    "fig.suptitle('Loss', fontsize=20)\n",
    "plt.legend(loc=\"upper left\")\n",
    "plt.show()"
   ]
  },
  {
   "cell_type": "code",
   "execution_count": null,
   "id": "d90d94d5",
   "metadata": {},
   "outputs": [],
   "source": [
    "from sklearn.metrics import confusion_matrix\n",
    "\n",
    "# make predictions on test data\n",
    "y_pred = model.predict(x_test)\n",
    "\n",
    "# convert predicted probabilities to class labels\n",
    "y_pred_labels = np.argmax(y_pred, axis=1)\n",
    "print(y_pred_labels)\n",
    "print(y_test)\n",
    "# # convert true labels to class labels\n",
    "# y_true_labels = np.argmax(y_test, axis=1)\n",
    "\n",
    "# create confusion matrix\n",
    "confusion_mtx = confusion_matrix(y_test, y_pred_labels)\n",
    "\n",
    "# print confusion matrix\n",
    "print(confusion_mtx)"
   ]
  },
  {
   "cell_type": "code",
   "execution_count": null,
   "id": "3fce8545",
   "metadata": {},
   "outputs": [],
   "source": [
    "import seaborn as sns\n",
    "# define class labels\n",
    "class_names = [\"Neutral\",\"Anxiety\", \"Fear\",  \"Disgust\", \"Happy\", \"Irritation\", \"Relief\", \"Sad\", \"Surprise\"]\n",
    "\n",
    "# create heatmap\n",
    "sns.heatmap(confusion_mtx, annot=True, fmt='d', xticklabels=class_names, yticklabels=class_names)\n",
    "\n",
    "# add labels and title\n",
    "plt.xlabel('Predicted')\n",
    "plt.ylabel('True')\n",
    "plt.title('Confusion Matrix')\n",
    "\n",
    "# show plot\n",
    "plt.show()"
   ]
  },
  {
   "cell_type": "code",
   "execution_count": null,
   "id": "eecec752",
   "metadata": {},
   "outputs": [],
   "source": []
  },
  {
   "cell_type": "code",
   "execution_count": null,
   "id": "d30ea119",
   "metadata": {},
   "outputs": [],
   "source": []
  },
  {
   "cell_type": "code",
   "execution_count": null,
   "id": "11edea39",
   "metadata": {},
   "outputs": [],
   "source": []
  }
 ],
 "metadata": {
  "kernelspec": {
   "display_name": "Python 3",
   "language": "python",
   "name": "python3"
  },
  "language_info": {
   "codemirror_mode": {
    "name": "ipython",
    "version": 3
   },
   "file_extension": ".py",
   "mimetype": "text/x-python",
   "name": "python",
   "nbconvert_exporter": "python",
   "pygments_lexer": "ipython3",
   "version": "3.8.8"
  }
 },
 "nbformat": 4,
 "nbformat_minor": 5
}
